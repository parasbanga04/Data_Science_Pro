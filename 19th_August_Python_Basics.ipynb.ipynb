{
 "cells": [
  {
   "cell_type": "markdown",
   "id": "efe92637-c43b-4382-be57-0d056923b690",
   "metadata": {},
   "source": [
    "'''Declare two variables, `x` and `y`, and assign them integer values. Swap the\n",
    "values of these variables without using any tem'porary variable.'''"
   ]
  },
  {
   "cell_type": "code",
   "execution_count": 27,
   "id": "3d7959e8-ec18-4dff-985a-149ffa6ffb5b",
   "metadata": {},
   "outputs": [
    {
     "name": "stdout",
     "output_type": "stream",
     "text": [
      "4 5\n"
     ]
    }
   ],
   "source": [
    "x = 5\n",
    "y = 4\n",
    "x,y = y,x\n",
    "print(x,y)"
   ]
  },
  {
   "cell_type": "markdown",
   "id": "d04ba794-4e30-4dca-9e30-5018e4345c97",
   "metadata": {},
   "source": [
    "Create a program that calculates the area of a rectangle. Take the length and\n",
    "width as inputs from the user and store them in variables. Calculate and\n",
    "display the area."
   ]
  },
  {
   "cell_type": "code",
   "execution_count": 42,
   "id": "64cfb9c9-96a0-4e80-97ab-724cf967ad72",
   "metadata": {},
   "outputs": [
    {
     "name": "stdin",
     "output_type": "stream",
     "text": [
      "length os rectangle is  3\n",
      "breadth  of rectangle is  4\n"
     ]
    },
    {
     "data": {
      "text/plain": [
       "12"
      ]
     },
     "execution_count": 42,
     "metadata": {},
     "output_type": "execute_result"
    }
   ],
   "source": [
    "length = int(input('length os rectangle is '))\n",
    "Breadth = int(input('breadth  of rectangle is '))\n",
    "Area_of_rectangle = length*Breadth\n",
    "Area_of_rectangle"
   ]
  },
  {
   "cell_type": "markdown",
   "id": "46cf7553-8b7e-4117-9073-846619b68cdd",
   "metadata": {},
   "source": [
    "Write a Python program that converts temperatures from Celsius to\n",
    "Fahrenheit. Take the temperature in Celsius as input, store it in a variable,\n",
    "convert it to Fahrenheit, and display the result.."
   ]
  },
  {
   "cell_type": "code",
   "execution_count": 45,
   "id": "21efb8e9-ebfd-42b6-8f7a-963be234e20c",
   "metadata": {},
   "outputs": [
    {
     "name": "stdin",
     "output_type": "stream",
     "text": [
      "Temperature in celcius is  1\n"
     ]
    },
    {
     "data": {
      "text/plain": [
       "33.8"
      ]
     },
     "execution_count": 45,
     "metadata": {},
     "output_type": "execute_result"
    }
   ],
   "source": [
    "Temperature_celcius = int(input('Temperature in celcius is '))\n",
    "Tempearture_fahrenheit = Temperature_celcius*9/5+32\n",
    "Tempearture_fahrenheit"
   ]
  },
  {
   "cell_type": "markdown",
   "id": "3ea1f2e8-d936-41e1-90d0-b95ca5ce6a9b",
   "metadata": {},
   "source": [
    "Write a Python program that takes a string as input and prints the length of\n",
    "the string."
   ]
  },
  {
   "cell_type": "code",
   "execution_count": 48,
   "id": "34c9d3e1-9f37-4469-a575-5aaad911b874",
   "metadata": {},
   "outputs": [
    {
     "name": "stdin",
     "output_type": "stream",
     "text": [
      " Paras\n"
     ]
    },
    {
     "data": {
      "text/plain": [
       "5"
      ]
     },
     "execution_count": 48,
     "metadata": {},
     "output_type": "execute_result"
    }
   ],
   "source": [
    "X = str(input())\n",
    "len(X)"
   ]
  },
  {
   "cell_type": "markdown",
   "id": "f8c351d7-08cd-4230-95b5-ad3f3f65a483",
   "metadata": {},
   "source": [
    "Create a program that takes a sentence from the user and counts the number\n",
    "of vowels (a, e, i, o, u) in the string."
   ]
  },
  {
   "cell_type": "code",
   "execution_count": 57,
   "id": "e6c2a6f1-c8cb-420a-9066-f7eabc427bd2",
   "metadata": {},
   "outputs": [
    {
     "name": "stdin",
     "output_type": "stream",
     "text": [
      " my name is paras.  i joined pwskills  for  datascience course\n"
     ]
    },
    {
     "data": {
      "text/plain": [
       "19"
      ]
     },
     "execution_count": 57,
     "metadata": {},
     "output_type": "execute_result"
    }
   ],
   "source": [
    "x = str(input())\n",
    "Vowel_count = x.count('a') + x.count('e') + x.count('i') + x.count('o') +x.count('u')\n",
    "Vowel_count"
   ]
  },
  {
   "cell_type": "markdown",
   "id": "daeebf92-d9ee-4b83-b17c-fb8b521e2391",
   "metadata": {},
   "source": [
    "Given a string, reverse the order of characters using string slicing and print\n",
    "the reversed string."
   ]
  },
  {
   "cell_type": "code",
   "execution_count": 59,
   "id": "2c4d1f61-b792-4637-8453-cac965d9bb02",
   "metadata": {},
   "outputs": [
    {
     "data": {
      "text/plain": [
       "'sarap  si eman yM'"
      ]
     },
     "execution_count": 59,
     "metadata": {},
     "output_type": "execute_result"
    }
   ],
   "source": [
    "x = 'My name is  paras'\n",
    "x[ : : -1]"
   ]
  },
  {
   "cell_type": "markdown",
   "id": "69ded2d3-6f02-4264-aef1-19ccc2180a5e",
   "metadata": {},
   "source": [
    "Write a program that takes a string as input and checks if it is a palindrome\n",
    "(reads the same forwards and backwards)."
   ]
  },
  {
   "cell_type": "code",
   "execution_count": 1,
   "id": "6cf66cf9-5e29-4d29-a1b2-ced602452002",
   "metadata": {},
   "outputs": [
    {
     "name": "stdin",
     "output_type": "stream",
     "text": [
      " PARAP\n"
     ]
    },
    {
     "name": "stdout",
     "output_type": "stream",
     "text": [
      "Yes it is palindrome\n"
     ]
    }
   ],
   "source": [
    "x = str(input())\n",
    "y = x[::-1]\n",
    "if x==y:\n",
    "    print('Yes it is palindrome');\n",
    "else:\n",
    "    print('No it is not palindrome');"
   ]
  },
  {
   "cell_type": "markdown",
   "id": "13c2877a-dcfd-4309-b390-ab4bdccb7d54",
   "metadata": {},
   "source": [
    "Create a program that takes a string as input and removes all the spaces from\n",
    "it. Print the modified string without spaces.\n"
   ]
  },
  {
   "cell_type": "code",
   "execution_count": 2,
   "id": "d696a218-ceb0-4c35-b274-47b455690076",
   "metadata": {},
   "outputs": [
    {
     "name": "stdin",
     "output_type": "stream",
     "text": [
      " mY NAME IS pARAS\n"
     ]
    },
    {
     "data": {
      "text/plain": [
       "'mYNAMEISpARAS'"
      ]
     },
     "execution_count": 2,
     "metadata": {},
     "output_type": "execute_result"
    }
   ],
   "source": [
    "x = str(input())\n",
    "x.replace(' ' , '')"
   ]
  },
  {
   "cell_type": "code",
   "execution_count": null,
   "id": "1bc3097e-3532-44df-a43b-75d302fe9b13",
   "metadata": {},
   "outputs": [],
   "source": []
  }
 ],
 "metadata": {
  "kernelspec": {
   "display_name": "Python 3 (ipykernel)",
   "language": "python",
   "name": "python3"
  },
  "language_info": {
   "codemirror_mode": {
    "name": "ipython",
    "version": 3
   },
   "file_extension": ".py",
   "mimetype": "text/x-python",
   "name": "python",
   "nbconvert_exporter": "python",
   "pygments_lexer": "ipython3",
   "version": "3.10.8"
  }
 },
 "nbformat": 4,
 "nbformat_minor": 5
}
